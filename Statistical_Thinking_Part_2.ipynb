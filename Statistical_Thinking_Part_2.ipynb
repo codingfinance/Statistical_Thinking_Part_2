{
 "cells": [
  {
   "cell_type": "markdown",
   "metadata": {},
   "source": [
    "#### Section 1 - Parameter estimation by optimization"
   ]
  },
  {
   "cell_type": "markdown",
   "metadata": {},
   "source": [
    "In the first setion we will work with the baseball data. We want to find out **How often do we get no-hitters?** <br>We can download the data from datacamp's website. First let us import the libraries and then we will load the data."
   ]
  },
  {
   "cell_type": "code",
   "execution_count": 1,
   "metadata": {},
   "outputs": [],
   "source": [
    "import pandas as pd\n",
    "from urllib import request\n",
    "import numpy as np\n",
    "import matplotlib.pyplot as plt\n",
    "import seaborn as sns\n",
    "sns.set()"
   ]
  },
  {
   "cell_type": "markdown",
   "metadata": {},
   "source": [
    "The below code will download the csv file and store it in your current directory. (Assuming its still available at Datacamp's website)"
   ]
  },
  {
   "cell_type": "code",
   "execution_count": 2,
   "metadata": {},
   "outputs": [
    {
     "data": {
      "text/plain": [
       "('data/baseball.csv', <http.client.HTTPMessage at 0x9bdb388>)"
      ]
     },
     "execution_count": 2,
     "metadata": {},
     "output_type": "execute_result"
    }
   ],
   "source": [
    "baseball_data_url = 'https://assets.datacamp.com/production/repositories/470/datasets/593c37a3588980e321b126e30873597620ca50b7/mlb_nohitters.csv'\n",
    "\n",
    "request.urlretrieve(baseball_data_url, 'data/baseball.csv')"
   ]
  },
  {
   "cell_type": "markdown",
   "metadata": {},
   "source": [
    "Now read the data using pandas."
   ]
  },
  {
   "cell_type": "code",
   "execution_count": 3,
   "metadata": {},
   "outputs": [],
   "source": [
    "baseball_df = pd.read_csv('data/baseball.csv')"
   ]
  },
  {
   "cell_type": "markdown",
   "metadata": {},
   "source": [
    "Lets look at the head of the data."
   ]
  },
  {
   "cell_type": "code",
   "execution_count": 4,
   "metadata": {},
   "outputs": [
    {
     "data": {
      "text/html": [
       "<div>\n",
       "<style scoped>\n",
       "    .dataframe tbody tr th:only-of-type {\n",
       "        vertical-align: middle;\n",
       "    }\n",
       "\n",
       "    .dataframe tbody tr th {\n",
       "        vertical-align: top;\n",
       "    }\n",
       "\n",
       "    .dataframe thead th {\n",
       "        text-align: right;\n",
       "    }\n",
       "</style>\n",
       "<table border=\"1\" class=\"dataframe\">\n",
       "  <thead>\n",
       "    <tr style=\"text-align: right;\">\n",
       "      <th></th>\n",
       "      <th>date</th>\n",
       "      <th>game_number</th>\n",
       "      <th>winning_team</th>\n",
       "      <th>losing_team</th>\n",
       "      <th>winning_pitcher</th>\n",
       "    </tr>\n",
       "  </thead>\n",
       "  <tbody>\n",
       "    <tr>\n",
       "      <th>0</th>\n",
       "      <td>18760715</td>\n",
       "      <td>140</td>\n",
       "      <td>NaN</td>\n",
       "      <td>NaN</td>\n",
       "      <td>NaN</td>\n",
       "    </tr>\n",
       "    <tr>\n",
       "      <th>1</th>\n",
       "      <td>18800612</td>\n",
       "      <td>1035</td>\n",
       "      <td>NaN</td>\n",
       "      <td>NaN</td>\n",
       "      <td>NaN</td>\n",
       "    </tr>\n",
       "    <tr>\n",
       "      <th>2</th>\n",
       "      <td>18800617</td>\n",
       "      <td>1046</td>\n",
       "      <td>NaN</td>\n",
       "      <td>NaN</td>\n",
       "      <td>NaN</td>\n",
       "    </tr>\n",
       "    <tr>\n",
       "      <th>3</th>\n",
       "      <td>18800819</td>\n",
       "      <td>1177</td>\n",
       "      <td>NaN</td>\n",
       "      <td>NaN</td>\n",
       "      <td>NaN</td>\n",
       "    </tr>\n",
       "    <tr>\n",
       "      <th>4</th>\n",
       "      <td>18800820</td>\n",
       "      <td>1179</td>\n",
       "      <td>NaN</td>\n",
       "      <td>NaN</td>\n",
       "      <td>NaN</td>\n",
       "    </tr>\n",
       "  </tbody>\n",
       "</table>\n",
       "</div>"
      ],
      "text/plain": [
       "       date  game_number winning_team losing_team winning_pitcher\n",
       "0  18760715          140          NaN         NaN             NaN\n",
       "1  18800612         1035          NaN         NaN             NaN\n",
       "2  18800617         1046          NaN         NaN             NaN\n",
       "3  18800819         1177          NaN         NaN             NaN\n",
       "4  18800820         1179          NaN         NaN             NaN"
      ]
     },
     "execution_count": 4,
     "metadata": {},
     "output_type": "execute_result"
    }
   ],
   "source": [
    "baseball_df.head()"
   ]
  },
  {
   "cell_type": "markdown",
   "metadata": {},
   "source": [
    "This data contains all the no-hitter innings in the entire baseball history. We need to calculate the time between no-hitter innings. This is simply the difference between the game_numbers."
   ]
  },
  {
   "cell_type": "code",
   "execution_count": 5,
   "metadata": {},
   "outputs": [],
   "source": [
    "nohitter_innings = baseball_df['game_number'].diff()[1:]"
   ]
  },
  {
   "cell_type": "markdown",
   "metadata": {},
   "source": [
    "But we are interested in **games between** no-hitters. So we need to subtract 1 from each game."
   ]
  },
  {
   "cell_type": "code",
   "execution_count": 6,
   "metadata": {},
   "outputs": [],
   "source": [
    "nohitter_innings = nohitter_innings - 1"
   ]
  },
  {
   "cell_type": "markdown",
   "metadata": {},
   "source": [
    "Now lets calculate the mean number of innings."
   ]
  },
  {
   "cell_type": "code",
   "execution_count": 7,
   "metadata": {},
   "outputs": [],
   "source": [
    "tau = np.mean(nohitter_innings)"
   ]
  },
  {
   "cell_type": "markdown",
   "metadata": {},
   "source": [
    "Draw an exponential distribution with parameter tau"
   ]
  },
  {
   "cell_type": "code",
   "execution_count": 8,
   "metadata": {},
   "outputs": [],
   "source": [
    "inter_nohitter_time = np.random.exponential(tau, 100000)"
   ]
  },
  {
   "cell_type": "code",
   "execution_count": 9,
   "metadata": {},
   "outputs": [
    {
     "data": {
      "image/png": "[encoded data removed]",
      "text/plain": [
       "<Figure size 432x288 with 1 Axes>"
      ]
     },
     "metadata": {
      "needs_background": "light"
     },
     "output_type": "display_data"
    }
   ],
   "source": [
    "_ = plt.hist(inter_nohitter_time,\n",
    "             bins=50, density=True, histtype='step')\n",
    "_ = plt.xlabel('Games between no-hitters')\n",
    "_ = plt.ylabel('PDF')\n"
   ]
  },
  {
   "cell_type": "markdown",
   "metadata": {},
   "source": [
    "We will recreate our `ecdf()` function that we used in our part 1 course."
   ]
  },
  {
   "cell_type": "code",
   "execution_count": 10,
   "metadata": {},
   "outputs": [],
   "source": [
    "def ecdf(data):\n",
    "    \n",
    "    return np.sort(data), np.arange(1, len(data)+1) / len(data)"
   ]
  },
  {
   "cell_type": "code",
   "execution_count": 11,
   "metadata": {},
   "outputs": [],
   "source": [
    "x, y = ecdf(nohitter_innings)"
   ]
  },
  {
   "cell_type": "code",
   "execution_count": 12,
   "metadata": {},
   "outputs": [],
   "source": [
    "x_theor, y_theor = ecdf(inter_nohitter_time)"
   ]
  },
  {
   "cell_type": "code",
   "execution_count": 13,
   "metadata": {},
   "outputs": [
    {
     "data": {
      "text/plain": [
       "<matplotlib.legend.Legend at 0xaf83a08>"
      ]
     },
     "execution_count": 13,
     "metadata": {},
     "output_type": "execute_result"
    },
    {
     "data": {
      "image/png": "[encoded data removed]",
      "text/plain": [
       "<Figure size 720x576 with 1 Axes>"
      ]
     },
     "metadata": {
      "needs_background": "light"
     },
     "output_type": "display_data"
    }
   ],
   "source": [
    "plt.figure(figsize=(10,8))\n",
    "plt.plot(x_theor,y_theor, label = 'Theoritical CDF')\n",
    "plt.plot(x,y, marker = '.', linestyle = 'none', label = 'Innings CDF')\n",
    "plt.margins(0.02)\n",
    "plt.xlabel('Games between no-hitters')\n",
    "plt.ylabel('CDF')\n",
    "plt.legend()"
   ]
  },
  {
   "cell_type": "markdown",
   "metadata": {},
   "source": [
    "How is this parameter (mean of nohitter) innings optimal?\n",
    "\n",
    "We can start by using the making the `tau` twice the size and then half the size and comparing the ECDF with the data. "
   ]
  },
  {
   "cell_type": "code",
   "execution_count": 14,
   "metadata": {},
   "outputs": [
    {
     "data": {
      "text/plain": [
       "Text(0, 0.5, 'CDF')"
      ]
     },
     "execution_count": 14,
     "metadata": {},
     "output_type": "execute_result"
    },
    {
     "data": {
      "image/png": "[encoded data removed]",
      "text/plain": [
       "<Figure size 720x576 with 1 Axes>"
      ]
     },
     "metadata": {
      "needs_background": "light"
     },
     "output_type": "display_data"
    }
   ],
   "source": [
    "plt.figure(figsize=(10,8))\n",
    "plt.plot(x_theor, y_theor)\n",
    "plt.plot(x, y, marker='.', linestyle='none')\n",
    "plt.margins(0.02)\n",
    "plt.xlabel('Games between no-hitters')\n",
    "plt.ylabel('CDF')"
   ]
  },
  {
   "cell_type": "code",
   "execution_count": 15,
   "metadata": {},
   "outputs": [
    {
     "data": {
      "text/plain": [
       "<matplotlib.legend.Legend at 0xb069e48>"
      ]
     },
     "execution_count": 15,
     "metadata": {},
     "output_type": "execute_result"
    },
    {
     "data": {
      "image/png": "[encoded data removed]",
      "text/plain": [
       "<Figure size 720x576 with 1 Axes>"
      ]
     },
     "metadata": {
      "needs_background": "light"
     },
     "output_type": "display_data"
    }
   ],
   "source": [
    "plt.figure(figsize=(10,8))\n",
    "samples_half = np.random.exponential(tau/2, 10000)\n",
    "\n",
    "# Take samples with double tau: samples_double\n",
    "samples_double = np.random.exponential(2*tau, 10000)\n",
    "\n",
    "# Generate CDFs from these samples\n",
    "x_half, y_half = ecdf(samples_half)\n",
    "x_double, y_double = ecdf(samples_double)\n",
    "\n",
    "# Plot these CDFs as lines\n",
    "_ = plt.plot(x_half, y_half, label = 'Half Tau')\n",
    "_ = plt.plot(x_double, y_double, label = 'Twice Tau')\n",
    "_ = plt.plot(x, y, marker = '.', linestyle = 'none', label = 'Innings CDF')\n",
    "plt.legend()"
   ]
  },
  {
   "cell_type": "markdown",
   "metadata": {},
   "source": [
    "We can observe that the new parameter vary from our data."
   ]
  },
  {
   "cell_type": "markdown",
   "metadata": {},
   "source": [
    "#### Female literacy and fertility data."
   ]
  },
  {
   "cell_type": "markdown",
   "metadata": {},
   "source": [
    "In the next few exercises, we will look at the correlation between female literacy and fertility (defined as the average number of children born per woman) throughout the world. For ease of analysis and interpretation, we will work with the illiteracy rate."
   ]
  },
  {
   "cell_type": "markdown",
   "metadata": {},
   "source": [
    "Let us load the data. As before we will download the data from Datacamp's website."
   ]
  },
  {
   "cell_type": "code",
   "execution_count": 16,
   "metadata": {},
   "outputs": [],
   "source": [
    "fertility_url = \"https://assets.datacamp.com/production/repositories/470/datasets/f1e7f8a98c18da5c60b625cb8af04c3217f4a5c3/female_literacy_fertility.csv\""
   ]
  },
  {
   "cell_type": "code",
   "execution_count": 17,
   "metadata": {},
   "outputs": [
    {
     "data": {
      "text/plain": [
       "('data/fertility.csv', <http.client.HTTPMessage at 0xb09b3c8>)"
      ]
     },
     "execution_count": 17,
     "metadata": {},
     "output_type": "execute_result"
    }
   ],
   "source": [
    "request.urlretrieve(fertility_url,'data/fertility.csv')"
   ]
  },
  {
   "cell_type": "markdown",
   "metadata": {},
   "source": [
    "Load the data"
   ]
  },
  {
   "cell_type": "code",
   "execution_count": 18,
   "metadata": {},
   "outputs": [],
   "source": [
    "fertility_df = pd.read_csv('data/fertility.csv')"
   ]
  },
  {
   "cell_type": "code",
   "execution_count": 19,
   "metadata": {},
   "outputs": [
    {
     "data": {
      "text/html": [
       "<div>\n",
       "<style scoped>\n",
       "    .dataframe tbody tr th:only-of-type {\n",
       "        vertical-align: middle;\n",
       "    }\n",
       "\n",
       "    .dataframe tbody tr th {\n",
       "        vertical-align: top;\n",
       "    }\n",
       "\n",
       "    .dataframe thead th {\n",
       "        text-align: right;\n",
       "    }\n",
       "</style>\n",
       "<table border=\"1\" class=\"dataframe\">\n",
       "  <thead>\n",
       "    <tr style=\"text-align: right;\">\n",
       "      <th></th>\n",
       "      <th>Country</th>\n",
       "      <th>Continent</th>\n",
       "      <th>female literacy</th>\n",
       "      <th>fertility</th>\n",
       "      <th>population</th>\n",
       "    </tr>\n",
       "  </thead>\n",
       "  <tbody>\n",
       "    <tr>\n",
       "      <th>0</th>\n",
       "      <td>Chine</td>\n",
       "      <td>ASI</td>\n",
       "      <td>90.5</td>\n",
       "      <td>1.769</td>\n",
       "      <td>1,324,655,000</td>\n",
       "    </tr>\n",
       "    <tr>\n",
       "      <th>1</th>\n",
       "      <td>Inde</td>\n",
       "      <td>ASI</td>\n",
       "      <td>50.8</td>\n",
       "      <td>2.682</td>\n",
       "      <td>1,139,964,932</td>\n",
       "    </tr>\n",
       "    <tr>\n",
       "      <th>2</th>\n",
       "      <td>USA</td>\n",
       "      <td>NAM</td>\n",
       "      <td>99.0</td>\n",
       "      <td>2.077</td>\n",
       "      <td>304,060,000</td>\n",
       "    </tr>\n",
       "    <tr>\n",
       "      <th>3</th>\n",
       "      <td>Indonésie</td>\n",
       "      <td>ASI</td>\n",
       "      <td>88.8</td>\n",
       "      <td>2.132</td>\n",
       "      <td>227,345,082</td>\n",
       "    </tr>\n",
       "    <tr>\n",
       "      <th>4</th>\n",
       "      <td>Brésil</td>\n",
       "      <td>LAT</td>\n",
       "      <td>90.2</td>\n",
       "      <td>1.827</td>\n",
       "      <td>191,971,506</td>\n",
       "    </tr>\n",
       "  </tbody>\n",
       "</table>\n",
       "</div>"
      ],
      "text/plain": [
       "    Country  Continent  female literacy  fertility     population\n",
       "0      Chine       ASI             90.5      1.769  1,324,655,000\n",
       "1       Inde       ASI             50.8      2.682  1,139,964,932\n",
       "2        USA       NAM             99.0      2.077    304,060,000\n",
       "3  Indonésie       ASI             88.8      2.132    227,345,082\n",
       "4     Brésil       LAT             90.2      1.827    191,971,506"
      ]
     },
     "execution_count": 19,
     "metadata": {},
     "output_type": "execute_result"
    }
   ],
   "source": [
    "fertility_df.head()"
   ]
  },
  {
   "cell_type": "markdown",
   "metadata": {},
   "source": [
    "Lets create a new columns to calcultae the femal illiteracy."
   ]
  },
  {
   "cell_type": "code",
   "execution_count": 20,
   "metadata": {},
   "outputs": [
    {
     "data": {
      "text/html": [
       "<div>\n",
       "<style scoped>\n",
       "    .dataframe tbody tr th:only-of-type {\n",
       "        vertical-align: middle;\n",
       "    }\n",
       "\n",
       "    .dataframe tbody tr th {\n",
       "        vertical-align: top;\n",
       "    }\n",
       "\n",
       "    .dataframe thead th {\n",
       "        text-align: right;\n",
       "    }\n",
       "</style>\n",
       "<table border=\"1\" class=\"dataframe\">\n",
       "  <thead>\n",
       "    <tr style=\"text-align: right;\">\n",
       "      <th></th>\n",
       "      <th>Country</th>\n",
       "      <th>Continent</th>\n",
       "      <th>female literacy</th>\n",
       "      <th>fertility</th>\n",
       "      <th>population</th>\n",
       "      <th>illiteracy</th>\n",
       "    </tr>\n",
       "  </thead>\n",
       "  <tbody>\n",
       "    <tr>\n",
       "      <th>0</th>\n",
       "      <td>Chine</td>\n",
       "      <td>ASI</td>\n",
       "      <td>90.5</td>\n",
       "      <td>1.769</td>\n",
       "      <td>1,324,655,000</td>\n",
       "      <td>9.5</td>\n",
       "    </tr>\n",
       "    <tr>\n",
       "      <th>1</th>\n",
       "      <td>Inde</td>\n",
       "      <td>ASI</td>\n",
       "      <td>50.8</td>\n",
       "      <td>2.682</td>\n",
       "      <td>1,139,964,932</td>\n",
       "      <td>49.2</td>\n",
       "    </tr>\n",
       "    <tr>\n",
       "      <th>2</th>\n",
       "      <td>USA</td>\n",
       "      <td>NAM</td>\n",
       "      <td>99.0</td>\n",
       "      <td>2.077</td>\n",
       "      <td>304,060,000</td>\n",
       "      <td>1.0</td>\n",
       "    </tr>\n",
       "    <tr>\n",
       "      <th>3</th>\n",
       "      <td>Indonésie</td>\n",
       "      <td>ASI</td>\n",
       "      <td>88.8</td>\n",
       "      <td>2.132</td>\n",
       "      <td>227,345,082</td>\n",
       "      <td>11.2</td>\n",
       "    </tr>\n",
       "    <tr>\n",
       "      <th>4</th>\n",
       "      <td>Brésil</td>\n",
       "      <td>LAT</td>\n",
       "      <td>90.2</td>\n",
       "      <td>1.827</td>\n",
       "      <td>191,971,506</td>\n",
       "      <td>9.8</td>\n",
       "    </tr>\n",
       "  </tbody>\n",
       "</table>\n",
       "</div>"
      ],
      "text/plain": [
       "    Country  Continent  female literacy  fertility     population  illiteracy\n",
       "0      Chine       ASI             90.5      1.769  1,324,655,000         9.5\n",
       "1       Inde       ASI             50.8      2.682  1,139,964,932        49.2\n",
       "2        USA       NAM             99.0      2.077    304,060,000         1.0\n",
       "3  Indonésie       ASI             88.8      2.132    227,345,082        11.2\n",
       "4     Brésil       LAT             90.2      1.827    191,971,506         9.8"
      ]
     },
     "execution_count": 20,
     "metadata": {},
     "output_type": "execute_result"
    }
   ],
   "source": [
    "fertility_df['illiteracy'] = np.abs(fertility_df['female literacy'] - 100)\n",
    "fertility_df.head()"
   ]
  },
  {
   "cell_type": "markdown",
   "metadata": {},
   "source": [
    "Lets use a scatter plot to visualize the illiteracy and fertility rate."
   ]
  },
  {
   "cell_type": "code",
   "execution_count": 21,
   "metadata": {},
   "outputs": [
    {
     "data": {
      "image/png": "[encoded data removed]",
      "text/plain": [
       "<Figure size 432x288 with 1 Axes>"
      ]
     },
     "metadata": {
      "needs_background": "light"
     },
     "output_type": "display_data"
    }
   ],
   "source": [
    "_ = plt.plot(fertility_df['illiteracy'], fertility_df['fertility'], \n",
    "            marker = '.', linestyle = 'none')\n",
    "\n",
    "plt.margins(0.02)\n",
    "_ = plt.xlabel('percent illiterate')\n",
    "_ = plt.ylabel('fertility')\n",
    "_ =plt.title('Female illiteracy and fertility')"
   ]
  },
  {
   "cell_type": "code",
   "execution_count": 22,
   "metadata": {},
   "outputs": [
    {
     "name": "stdout",
     "output_type": "stream",
     "text": [
      "The correlation between Female illiteracy and fertility is 0.8041324026815344\n"
     ]
    }
   ],
   "source": [
    "corr = np.corrcoef(fertility_df['illiteracy'], fertility_df['fertility'])[0,1]\n",
    "\n",
    "print(f\"The correlation between Female illiteracy and fertility is {corr}\")"
   ]
  },
  {
   "cell_type": "markdown",
   "metadata": {},
   "source": [
    "We can calculate the regression parameter using both numpy and scipy packages."
   ]
  },
  {
   "cell_type": "code",
   "execution_count": 23,
   "metadata": {},
   "outputs": [],
   "source": [
    "slope, intercept = np.polyfit(fertility_df['illiteracy'], fertility_df['fertility'], 1)"
   ]
  },
  {
   "cell_type": "code",
   "execution_count": 24,
   "metadata": {},
   "outputs": [
    {
     "data": {
      "text/plain": [
       "0.04979854809063423"
      ]
     },
     "execution_count": 24,
     "metadata": {},
     "output_type": "execute_result"
    }
   ],
   "source": [
    "slope"
   ]
  },
  {
   "cell_type": "code",
   "execution_count": 25,
   "metadata": {},
   "outputs": [
    {
     "data": {
      "text/plain": [
       "1.888050610636557"
      ]
     },
     "execution_count": 25,
     "metadata": {},
     "output_type": "execute_result"
    }
   ],
   "source": [
    "intercept"
   ]
  },
  {
   "cell_type": "code",
   "execution_count": 26,
   "metadata": {},
   "outputs": [],
   "source": [
    "from scipy.stats import linregress"
   ]
  },
  {
   "cell_type": "code",
   "execution_count": 27,
   "metadata": {},
   "outputs": [],
   "source": [
    "slope, intercept, correlation,_, _ = linregress(x=fertility_df['illiteracy'], y = fertility_df['fertility'])"
   ]
  },
  {
   "cell_type": "code",
   "execution_count": 28,
   "metadata": {},
   "outputs": [
    {
     "name": "stdout",
     "output_type": "stream",
     "text": [
      "0.0497985480906342\n",
      "1.8880506106365569\n",
      "0.8041324026815342\n"
     ]
    }
   ],
   "source": [
    "print(slope)\n",
    "print(intercept)\n",
    "print(correlation)\n"
   ]
  },
  {
   "cell_type": "markdown",
   "metadata": {},
   "source": [
    "We can also plot the regression plot."
   ]
  },
  {
   "cell_type": "code",
   "execution_count": 29,
   "metadata": {
    "scrolled": true
   },
   "outputs": [
    {
     "data": {
      "text/plain": [
       "<matplotlib.axes._subplots.AxesSubplot at 0xbdb6e08>"
      ]
     },
     "execution_count": 29,
     "metadata": {},
     "output_type": "execute_result"
    },
    {
     "data": {
      "image/png": "[encoded data removed]",
      "text/plain": [
       "<Figure size 432x288 with 1 Axes>"
      ]
     },
     "metadata": {
      "needs_background": "light"
     },
     "output_type": "display_data"
    }
   ],
   "source": [
    "sns.regplot(fertility_df['illiteracy'], fertility_df['fertility'])"
   ]
  },
  {
   "cell_type": "markdown",
   "metadata": {},
   "source": [
    "#### Section 2 - Bootstrap confidence intervals"
   ]
  },
  {
   "cell_type": "markdown",
   "metadata": {},
   "source": [
    "Visualizing bootstrap samples"
   ]
  },
  {
   "cell_type": "markdown",
   "metadata": {},
   "source": [
    "We will use the annual rainfall data measured at the Sheffield Weather Station in the UK from 1883 to 2015."
   ]
  },
  {
   "cell_type": "code",
   "execution_count": 30,
   "metadata": {},
   "outputs": [],
   "source": [
    "rainfall = np.array([ 875.5,  648.2,  788.1,  940.3,  491.1,  743.5,  730.1,  686.5,\n",
    "        878.8,  865.6,  654.9,  831.5,  798.1,  681.8,  743.8,  689.1,\n",
    "        752.1,  837.2,  710.6,  749.2,  967.1,  701.2,  619. ,  747.6,\n",
    "        803.4,  645.6,  804.1,  787.4,  646.8,  997.1,  774. ,  734.5,\n",
    "        835. ,  840.7,  659.6,  828.3,  909.7,  856.9,  578.3,  904.2,\n",
    "        883.9,  740.1,  773.9,  741.4,  866.8,  871.1,  712.5,  919.2,\n",
    "        927.9,  809.4,  633.8,  626.8,  871.3,  774.3,  898.8,  789.6,\n",
    "        936.3,  765.4,  882.1,  681.1,  661.3,  847.9,  683.9,  985.7,\n",
    "        771.1,  736.6,  713.2,  774.5,  937.7,  694.5,  598.2,  983.8,\n",
    "        700.2,  901.3,  733.5,  964.4,  609.3, 1035.2,  718. ,  688.6,\n",
    "        736.8,  643.3, 1038.5,  969. ,  802.7,  876.6,  944.7,  786.6,\n",
    "        770.4,  808.6,  761.3,  774.2,  559.3,  674.2,  883.6,  823.9,\n",
    "        960.4,  877.8,  940.6,  831.8,  906.2,  866.5,  674.1,  998.1,\n",
    "        789.3,  915. ,  737.1,  763. ,  666.7,  824.5,  913.8,  905.1,\n",
    "        667.8,  747.4,  784.7,  925.4,  880.2, 1086.9,  764.4, 1050.1,\n",
    "        595.2,  855.2,  726.9,  785.2,  948.8,  970.6,  896. ,  618.4,\n",
    "        572.4, 1146.4,  728.2,  864.2,  793. ])\n"
   ]
  },
  {
   "cell_type": "markdown",
   "metadata": {},
   "source": [
    "Lets generate a Bootstrap sample "
   ]
  },
  {
   "cell_type": "code",
   "execution_count": 31,
   "metadata": {
    "scrolled": true
   },
   "outputs": [
    {
     "data": {
      "image/png": "[encoded data removed]",
      "text/plain": [
       "<Figure size 432x288 with 1 Axes>"
      ]
     },
     "metadata": {
      "needs_background": "light"
     },
     "output_type": "display_data"
    }
   ],
   "source": [
    "for i in np.arange(50):\n",
    "    \n",
    "    \n",
    "    bs_sample = np.random.choice(rainfall, size = len(rainfall))\n",
    "    \n",
    "    x, y = ecdf(bs_sample)\n",
    "    _ = plt.plot(x, y, marker = '.', linestyle = 'none', color = 'gray', alpha = 0.1)\n",
    "    \n",
    "x, y = ecdf(rainfall)\n",
    "_ = plt.plot(x, y, marker='.')\n",
    "\n",
    "# Make margins and label axes\n",
    "plt.margins(0.02)\n",
    "_ = plt.xlabel('yearly rainfall (mm)')\n",
    "_ = plt.ylabel('ECDF')\n",
    "\n",
    "# Show the plot\n",
    "plt.show()"
   ]
  },
  {
   "cell_type": "markdown",
   "metadata": {},
   "source": [
    "We can visualize the blue line is our original data, and the gray points are the bootstrap samples."
   ]
  },
  {
   "cell_type": "markdown",
   "metadata": {},
   "source": [
    "In this exercise, you will compute a bootstrap estimate of the probability density function of the mean annual rainfall at the Sheffield Weather Station. Remember, we are estimating the mean annual rainfall we would get if the Sheffield Weather Station could repeat all of the measurements from 1883 to 2015 over and over again. This is a probabilistic estimate of the mean. You will plot the PDF as a histogram, and you will see that it is Normal.\n",
    "\n",
    "In fact, it can be shown theoretically that under not-too-restrictive conditions, the value of the mean will always be Normally distributed. (This does not hold in general, just for the mean and a few other statistics.) The standard deviation of this distribution, called the standard error of the mean, or SEM, is given by the standard deviation of the data divided by the square root of the number of data points. I.e., for a data set, sem = np.std(data) / np.sqrt(len(data))"
   ]
  },
  {
   "cell_type": "code",
   "execution_count": 32,
   "metadata": {},
   "outputs": [],
   "source": [
    "def bootstrap_replicate_1d(data, func):\n",
    "    return func(np.random.choice(data, size=len(data)))"
   ]
  },
  {
   "cell_type": "code",
   "execution_count": 33,
   "metadata": {},
   "outputs": [],
   "source": [
    "def draw_bs_reps(data, func, size=1):\n",
    "    \"\"\"Draw bootstrap replicates.\"\"\"\n",
    "\n",
    "    # Initialize array of replicates: bs_replicates\n",
    "    bs_replicates = np.empty(size)\n",
    "\n",
    "    # Generate replicates\n",
    "    for i in range(size):\n",
    "        bs_replicates[i] = bootstrap_replicate_1d(data, func)\n",
    "\n",
    "    return bs_replicates"
   ]
  },
  {
   "cell_type": "code",
   "execution_count": 34,
   "metadata": {},
   "outputs": [
    {
     "name": "stdout",
     "output_type": "stream",
     "text": [
      "10.510549150506188\n",
      "10.492152751696553\n"
     ]
    },
    {
     "data": {
      "image/png": "[encoded data removed]",
      "text/plain": [
       "<Figure size 432x288 with 1 Axes>"
      ]
     },
     "metadata": {
      "needs_background": "light"
     },
     "output_type": "display_data"
    }
   ],
   "source": [
    "bs_replicates = draw_bs_reps(rainfall, np.mean, size=10000)\n",
    "\n",
    "# Compute and print SEM\n",
    "sem = np.std(rainfall) / np.sqrt(len(rainfall))\n",
    "print(sem)\n",
    "\n",
    "# Compute and print standard deviation of bootstrap replicates\n",
    "bs_std = np.std(bs_replicates)\n",
    "print(bs_std)\n",
    "\n",
    "# Make a histogram of the results\n",
    "_ = plt.hist(bs_replicates, bins=50, density=True)\n",
    "_ = plt.xlabel('mean annual rainfall (mm)')\n",
    "_ = plt.ylabel('PDF')\n",
    "\n",
    "# Show the plot\n",
    "plt.show()"
   ]
  },
  {
   "cell_type": "markdown",
   "metadata": {},
   "source": [
    "The histogram appears to be normally distrbuted. We can use this to calculate our 95% confidence intervals as shown below."
   ]
  },
  {
   "cell_type": "code",
   "execution_count": 35,
   "metadata": {},
   "outputs": [
    {
     "name": "stdout",
     "output_type": "stream",
     "text": [
      "The 95% confidence interval of the rainfall data is is [766.35074868 775.74036692] mm/year.\n"
     ]
    }
   ],
   "source": [
    "ci_95 = np.percentile(bs_replicates, q = [0.025,0.975])\n",
    "\n",
    "print(f\"The 95% confidence interval of the rainfall data is is {ci_95} mm/year.\")"
   ]
  },
  {
   "cell_type": "markdown",
   "metadata": {},
   "source": [
    "Bootstrap replicates of other statistics. In this exercise, we generate bootstrap replicates for the variance of the annual rainfall at the Sheffield Weather Station and plot the histogram of the replicates."
   ]
  },
  {
   "cell_type": "code",
   "execution_count": 36,
   "metadata": {
    "scrolled": true
   },
   "outputs": [
    {
     "data": {
      "image/png": "[encoded data removed]",
      "text/plain": [
       "<Figure size 432x288 with 1 Axes>"
      ]
     },
     "metadata": {
      "needs_background": "light"
     },
     "output_type": "display_data"
    }
   ],
   "source": [
    "bs_replicates = draw_bs_reps(rainfall, np.var, size=10000)\n",
    "\n",
    "# Put the variance in units of square centimeters\n",
    "bs_replicates /= 100\n",
    "\n",
    "# Make a histogram of the results\n",
    "_ = plt.hist(bs_replicates, bins=50)\n",
    "_ = plt.xlabel('variance of annual rainfall (sq. cm)')\n",
    "_ = plt.ylabel('PDF')\n",
    "\n",
    "# Show the plot\n",
    "plt.show()\n"
   ]
  },
  {
   "cell_type": "markdown",
   "metadata": {},
   "source": [
    "#### Confidence interval on the rate of no-hitters\n",
    "\n",
    "Consider again the inter-no-hitter intervals for the modern era of baseball. Generate 10,000 bootstrap replicates of the optimal parameter \bτ\n",
    ". Plot a histogram of your replicates and report a 95% confidence interval."
   ]
  },
  {
   "cell_type": "code",
   "execution_count": 37,
   "metadata": {},
   "outputs": [
    {
     "name": "stdout",
     "output_type": "stream",
     "text": [
      "The 95% confidence interval for games with no hitters is [628.5918942  815.77440273].\n"
     ]
    },
    {
     "data": {
      "image/png": "[encoded data removed]",
      "text/plain": [
       "<Figure size 432x288 with 1 Axes>"
      ]
     },
     "metadata": {
      "needs_background": "light"
     },
     "output_type": "display_data"
    }
   ],
   "source": [
    "bs_replicates = draw_bs_reps(nohitter_innings, np.mean, size=10000)\n",
    "conf_int = np.percentile(bs_replicates, [2.5, 97.5])\n",
    "print(f\"The 95% confidence interval for games with no hitters is {conf_int}.\")\n",
    "\n",
    "# Plot the histogram of the replicates\n",
    "_ = plt.hist(bs_replicates, bins=50, density=True)\n",
    "_ = plt.xlabel(r'$\\tau$ (games)')\n",
    "_ = plt.ylabel('PDF')\n",
    "\n",
    "# Show the plot\n",
    "plt.show()"
   ]
  },
  {
   "cell_type": "markdown",
   "metadata": {},
   "source": [
    "#### Section 3 - Hypothesis Testing"
   ]
  },
  {
   "cell_type": "markdown",
   "metadata": {},
   "source": [
    "Generating a permutation sample"
   ]
  },
  {
   "cell_type": "markdown",
   "metadata": {},
   "source": [
    "Given two data sets, the below function will generate a permutation sample."
   ]
  },
  {
   "cell_type": "code",
   "execution_count": 38,
   "metadata": {},
   "outputs": [],
   "source": [
    "def generate_permutation_sample(data1, data2):\n",
    "    \n",
    "    '''Given two data sets, this function will generate a permutation sample.'''\n",
    "    \n",
    "    data = np.concatenate((data1, data2))\n",
    "    \n",
    "    permuted_data = np.random.permutation(data)\n",
    "    \n",
    "    perm_sample_1 = permuted_data[:len(data1)]\n",
    "    \n",
    "    perm_sample_2 = permuted_data[len(data1):]\n",
    "    \n",
    "    return perm_sample_1, perm_sample_2\n",
    "    "
   ]
  },
  {
   "cell_type": "markdown",
   "metadata": {},
   "source": [
    "Visualize the permuted sample data on the rainfall in June and November recorded by Sheffield Weather station."
   ]
  },
  {
   "cell_type": "code",
   "execution_count": 39,
   "metadata": {},
   "outputs": [],
   "source": [
    "rain_june = np.array([ 66.2,  39.7,  76.4,  26.5,  11.2,  61.8,   6.1,  48.4,  89.2,\n",
    "       104. ,  34. ,  60.6,  57.1,  79.1,  90.9,  32.3,  63.8,  78.2,\n",
    "        27.5,  43.4,  30.1,  17.3,  77.5,  44.9,  92.2,  39.6,  79.4,\n",
    "        66.1,  53.5,  98.5,  20.8,  55.5,  39.6,  56. ,  65.1,  14.8,\n",
    "        13.2,  88.1,   8.4,  32.1,  19.6,  40.4,   2.2,  77.5, 105.4,\n",
    "        77.2,  38. ,  27.1, 111.8,  17.2,  26.7,  23.3,  77.2,  87.2,\n",
    "        27.7,  50.6,  60.3,  15.1,   6. ,  29.4,  39.3,  56.3,  80.4,\n",
    "        85.3,  68.4,  72.5,  13.3,  28.4,  14.7,  37.4,  49.5,  57.2,\n",
    "        85.9,  82.1,  31.8, 126.6,  30.7,  41.4,  33.9,  13.5,  99.1,\n",
    "        70.2,  91.8,  61.3,  13.7,  54.9,  62.5,  24.2,  69.4,  83.1,\n",
    "        44. ,  48.5,  11.9,  16.6,  66.4,  90. ,  34.9, 132.8,  33.4,\n",
    "       225. ,   7.6,  40.9,  76.5,  48. , 140. ,  55.9,  54.1,  46.4,\n",
    "        68.6,  52.2, 108.3,  14.6,  11.3,  29.8, 130.9, 152.4,  61. ,\n",
    "        46.6,  43.9,  30.9, 111.1,  68.5,  42.2,   9.8, 285.6,  56.7,\n",
    "       168.2,  41.2,  47.8, 166.6,  37.8,  45.4,  43.2])\n",
    "\n",
    "rain_november = np.array([ 83.6,  30.9,  62.2,  37. ,  41. , 160.2,  18.2, 122.4,  71.3,\n",
    "        44.2,  49.1,  37.6, 114.5,  28.8,  82.5,  71.9,  50.7,  67.7,\n",
    "       112. ,  63.6,  42.8,  57.2,  99.1,  86.4,  84.4,  38.1,  17.7,\n",
    "       102.2, 101.3,  58. ,  82. , 101.4,  81.4, 100.1,  54.6,  39.6,\n",
    "        57.5,  29.2,  48.8,  37.3, 115.4,  55.6,  62. ,  95. ,  84.2,\n",
    "       118.1, 153.2,  83.4, 104.7,  59. ,  46.4,  50. , 147.6,  76.8,\n",
    "        59.9, 101.8, 136.6, 173. ,  92.5,  37. ,  59.8, 142.1,   9.9,\n",
    "       158.2,  72.6,  28. , 112.9, 119.3, 199.2,  50.7,  44. , 170.7,\n",
    "        67.2,  21.4,  61.3,  15.6, 106. , 116.2,  42.3,  38.5, 132.5,\n",
    "        40.8, 147.5,  93.9,  71.4,  87.3, 163.7, 141.4,  62.6,  84.9,\n",
    "        28.8, 121.1,  28.6,  32.4, 112. ,  50. ,  96.9,  81.8,  70.4,\n",
    "       117.5,  41.2, 124.9,  78.2,  93. ,  53.5,  50.5,  42.6,  47.9,\n",
    "        73.1, 129.1,  56.9, 103.3,  60.5, 134.3,  93.1,  49.5,  48.2,\n",
    "       167.9,  27. , 111.1,  55.4,  36.2,  57.4,  66.8,  58.3,  60. ,\n",
    "       161.6, 112.7,  37.4, 110.6,  56.6,  95.8, 126.8])"
   ]
  },
  {
   "cell_type": "markdown",
   "metadata": {},
   "source": [
    "To help see how permutation sampling works, in this code we will generate permutation samples and look at them graphically. "
   ]
  },
  {
   "cell_type": "code",
   "execution_count": 40,
   "metadata": {},
   "outputs": [
    {
     "data": {
      "image/png": "[encoded data removed]",
      "text/plain": [
       "<Figure size 432x288 with 1 Axes>"
      ]
     },
     "metadata": {
      "needs_background": "light"
     },
     "output_type": "display_data"
    }
   ],
   "source": [
    "for _ in range(50):\n",
    "    \n",
    "    perm_sample_1, perm_sample_2 = generate_permutation_sample(rain_june, rain_november)\n",
    "    \n",
    "    x_1, y_1 = ecdf(perm_sample_1)\n",
    "    x_2, y_2 = ecdf(perm_sample_2)\n",
    "    \n",
    "    _ = plt.plot(x_1,y_1, marker = '.', linestyle = 'none', color = 'red', alpha = 0.02,)\n",
    "    \n",
    "    _ = plt.plot(x_2,y_2, marker = '.', linestyle = 'none', color = 'black', alpha = 0.02)\n",
    "    \n",
    "    \n",
    "# Plot the ECDF of the original data\n",
    "\n",
    "x_1, y_1 = ecdf(rain_june)\n",
    "\n",
    "x_2, y_2 = ecdf(rain_november)\n",
    "\n",
    "_ = plt.plot(x_1,y_1, marker = '.', linestyle = 'none', color = 'red', label = 'Rain June')\n",
    "_ = plt.plot(x_2,y_2, marker = '.', linestyle = 'none', color = 'black', label = 'Rain November')\n",
    "_ = plt.legend()\n",
    "_ = plt.xlabel('monthly rainfall (mm)')\n",
    "_ = plt.ylabel('ECDF')\n",
    "    \n",
    "    "
   ]
  },
  {
   "cell_type": "markdown",
   "metadata": {},
   "source": [
    "The below function is used to generate permutation replicates. "
   ]
  },
  {
   "cell_type": "code",
   "execution_count": 41,
   "metadata": {},
   "outputs": [],
   "source": [
    "def draw_perm_reps(data1, data2, func, size=1):\n",
    "    \n",
    "    perm_replicates = np.empty(size)\n",
    "    \n",
    "    for i in range(size):\n",
    "        perm_sample_1, perm_sample_2 = generate_permutation_sample(data1, data2)\n",
    "        \n",
    "        perm_replicates[i] = func(perm_sample_1, perm_sample_2)\n",
    "        \n",
    "    return perm_replicates"
   ]
  },
  {
   "cell_type": "markdown",
   "metadata": {},
   "source": [
    "We will use the permutation replicates on a new dataset.<br>\n",
    "Kleinteich and Gorb (Sci. Rep., 4, 5225, 2014) performed an interesting experiment with South American horned frogs. They held a plate connected to a force transducer, along with a bait fly, in front of them. They then measured the impact force and adhesive force of the frog's tongue when it struck the target.\n",
    "\n",
    "The researchers measured the impact force of 20 strikes for each frog. In the next exercise, we will test the hypothesis that the frogs have the same distribution of impact forces. But, remember, it is important to do EDA first! Let's make a bee swarm plot for the data."
   ]
  },
  {
   "cell_type": "markdown",
   "metadata": {},
   "source": [
    "We will download the data from datacamp's website."
   ]
  },
  {
   "cell_type": "code",
   "execution_count": 42,
   "metadata": {},
   "outputs": [
    {
     "data": {
      "text/plain": [
       "('data/frog.csv', <http.client.HTTPMessage at 0xd6463c8>)"
      ]
     },
     "execution_count": 42,
     "metadata": {},
     "output_type": "execute_result"
    }
   ],
   "source": [
    "frog_url = 'https://assets.datacamp.com/production/repositories/470/datasets/df6e0479c0f292ce9d2b951385f64df8e2a8e6ac/frog_tongue.csv'\n",
    "request.urlretrieve(frog_url, 'data/frog.csv')"
   ]
  },
  {
   "cell_type": "markdown",
   "metadata": {},
   "source": [
    "The data contains some information in the first 14 rows so we will skip those."
   ]
  },
  {
   "cell_type": "code",
   "execution_count": 43,
   "metadata": {},
   "outputs": [],
   "source": [
    "frog_df = pd.read_csv('data/frog.csv', skiprows=14)"
   ]
  },
  {
   "cell_type": "markdown",
   "metadata": {},
   "source": [
    "Lets see the first few rows."
   ]
  },
  {
   "cell_type": "code",
   "execution_count": 44,
   "metadata": {},
   "outputs": [
    {
     "data": {
      "text/html": [
       "<div>\n",
       "<style scoped>\n",
       "    .dataframe tbody tr th:only-of-type {\n",
       "        vertical-align: middle;\n",
       "    }\n",
       "\n",
       "    .dataframe tbody tr th {\n",
       "        vertical-align: top;\n",
       "    }\n",
       "\n",
       "    .dataframe thead th {\n",
       "        text-align: right;\n",
       "    }\n",
       "</style>\n",
       "<table border=\"1\" class=\"dataframe\">\n",
       "  <thead>\n",
       "    <tr style=\"text-align: right;\">\n",
       "      <th></th>\n",
       "      <th>date</th>\n",
       "      <th>ID</th>\n",
       "      <th>trial number</th>\n",
       "      <th>impact force (mN)</th>\n",
       "      <th>impact time (ms)</th>\n",
       "      <th>impact force / body weight</th>\n",
       "      <th>adhesive force (mN)</th>\n",
       "      <th>time frog pulls on target (ms)</th>\n",
       "      <th>adhesive force / body weight</th>\n",
       "      <th>adhesive impulse (N-s)</th>\n",
       "      <th>total contact area (mm2)</th>\n",
       "      <th>contact area without mucus (mm2)</th>\n",
       "      <th>contact area with mucus / contact area without mucus</th>\n",
       "      <th>contact pressure (Pa)</th>\n",
       "      <th>adhesive strength (Pa)</th>\n",
       "    </tr>\n",
       "  </thead>\n",
       "  <tbody>\n",
       "    <tr>\n",
       "      <th>0</th>\n",
       "      <td>2013_02_26</td>\n",
       "      <td>I</td>\n",
       "      <td>3</td>\n",
       "      <td>1205</td>\n",
       "      <td>46</td>\n",
       "      <td>1.95</td>\n",
       "      <td>-785</td>\n",
       "      <td>884</td>\n",
       "      <td>1.27</td>\n",
       "      <td>-0.290</td>\n",
       "      <td>387</td>\n",
       "      <td>70</td>\n",
       "      <td>0.82</td>\n",
       "      <td>3117</td>\n",
       "      <td>-2030</td>\n",
       "    </tr>\n",
       "    <tr>\n",
       "      <th>1</th>\n",
       "      <td>2013_02_26</td>\n",
       "      <td>I</td>\n",
       "      <td>4</td>\n",
       "      <td>2527</td>\n",
       "      <td>44</td>\n",
       "      <td>4.08</td>\n",
       "      <td>-983</td>\n",
       "      <td>248</td>\n",
       "      <td>1.59</td>\n",
       "      <td>-0.181</td>\n",
       "      <td>101</td>\n",
       "      <td>94</td>\n",
       "      <td>0.07</td>\n",
       "      <td>24923</td>\n",
       "      <td>-9695</td>\n",
       "    </tr>\n",
       "    <tr>\n",
       "      <th>2</th>\n",
       "      <td>2013_03_01</td>\n",
       "      <td>I</td>\n",
       "      <td>1</td>\n",
       "      <td>1745</td>\n",
       "      <td>34</td>\n",
       "      <td>2.82</td>\n",
       "      <td>-850</td>\n",
       "      <td>211</td>\n",
       "      <td>1.37</td>\n",
       "      <td>-0.157</td>\n",
       "      <td>83</td>\n",
       "      <td>79</td>\n",
       "      <td>0.05</td>\n",
       "      <td>21020</td>\n",
       "      <td>-10239</td>\n",
       "    </tr>\n",
       "    <tr>\n",
       "      <th>3</th>\n",
       "      <td>2013_03_01</td>\n",
       "      <td>I</td>\n",
       "      <td>2</td>\n",
       "      <td>1556</td>\n",
       "      <td>41</td>\n",
       "      <td>2.51</td>\n",
       "      <td>-455</td>\n",
       "      <td>1025</td>\n",
       "      <td>0.74</td>\n",
       "      <td>-0.170</td>\n",
       "      <td>330</td>\n",
       "      <td>158</td>\n",
       "      <td>0.52</td>\n",
       "      <td>4718</td>\n",
       "      <td>-1381</td>\n",
       "    </tr>\n",
       "    <tr>\n",
       "      <th>4</th>\n",
       "      <td>2013_03_01</td>\n",
       "      <td>I</td>\n",
       "      <td>3</td>\n",
       "      <td>493</td>\n",
       "      <td>36</td>\n",
       "      <td>0.80</td>\n",
       "      <td>-974</td>\n",
       "      <td>499</td>\n",
       "      <td>1.57</td>\n",
       "      <td>-0.423</td>\n",
       "      <td>245</td>\n",
       "      <td>216</td>\n",
       "      <td>0.12</td>\n",
       "      <td>2012</td>\n",
       "      <td>-3975</td>\n",
       "    </tr>\n",
       "  </tbody>\n",
       "</table>\n",
       "</div>"
      ],
      "text/plain": [
       "         date ID  trial number  impact force (mN)  impact time (ms)  \\\n",
       "0  2013_02_26  I             3               1205                46   \n",
       "1  2013_02_26  I             4               2527                44   \n",
       "2  2013_03_01  I             1               1745                34   \n",
       "3  2013_03_01  I             2               1556                41   \n",
       "4  2013_03_01  I             3                493                36   \n",
       "\n",
       "   impact force / body weight  adhesive force (mN)  \\\n",
       "0                        1.95                 -785   \n",
       "1                        4.08                 -983   \n",
       "2                        2.82                 -850   \n",
       "3                        2.51                 -455   \n",
       "4                        0.80                 -974   \n",
       "\n",
       "   time frog pulls on target (ms)  adhesive force / body weight  \\\n",
       "0                             884                          1.27   \n",
       "1                             248                          1.59   \n",
       "2                             211                          1.37   \n",
       "3                            1025                          0.74   \n",
       "4                             499                          1.57   \n",
       "\n",
       "   adhesive impulse (N-s)  total contact area (mm2)  \\\n",
       "0                  -0.290                       387   \n",
       "1                  -0.181                       101   \n",
       "2                  -0.157                        83   \n",
       "3                  -0.170                       330   \n",
       "4                  -0.423                       245   \n",
       "\n",
       "   contact area without mucus (mm2)  \\\n",
       "0                                70   \n",
       "1                                94   \n",
       "2                                79   \n",
       "3                               158   \n",
       "4                               216   \n",
       "\n",
       "   contact area with mucus / contact area without mucus  \\\n",
       "0                                               0.82      \n",
       "1                                               0.07      \n",
       "2                                               0.05      \n",
       "3                                               0.52      \n",
       "4                                               0.12      \n",
       "\n",
       "   contact pressure (Pa)  adhesive strength (Pa)  \n",
       "0                   3117                   -2030  \n",
       "1                  24923                   -9695  \n",
       "2                  21020                  -10239  \n",
       "3                   4718                   -1381  \n",
       "4                   2012                   -3975  "
      ]
     },
     "execution_count": 44,
     "metadata": {},
     "output_type": "execute_result"
    }
   ],
   "source": [
    "frog_df.head()"
   ]
  },
  {
   "cell_type": "markdown",
   "metadata": {},
   "source": [
    "We are interested in the `ID` `II & IV`. So lets filter those two groups."
   ]
  },
  {
   "cell_type": "code",
   "execution_count": 45,
   "metadata": {},
   "outputs": [],
   "source": [
    "frog_df = frog_df[(frog_df['ID'] == 'II') | (frog_df['ID'] == 'IV')]"
   ]
  },
  {
   "cell_type": "markdown",
   "metadata": {},
   "source": [
    "Lets look at that the swarmplot."
   ]
  },
  {
   "cell_type": "code",
   "execution_count": 46,
   "metadata": {},
   "outputs": [
    {
     "data": {
      "text/plain": [
       "<matplotlib.axes._subplots.AxesSubplot at 0xbe682c8>"
      ]
     },
     "execution_count": 46,
     "metadata": {},
     "output_type": "execute_result"
    },
    {
     "data": {
      "image/png": "[encoded data removed]",
      "text/plain": [
       "<Figure size 432x288 with 1 Axes>"
      ]
     },
     "metadata": {
      "needs_background": "light"
     },
     "output_type": "display_data"
    }
   ],
   "source": [
    "sns.swarmplot(x='ID', y = 'impact force (mN)', data = frog_df)"
   ]
  },
  {
   "cell_type": "markdown",
   "metadata": {},
   "source": [
    "We can observe the mean impact force for all the different frog groups."
   ]
  },
  {
   "cell_type": "code",
   "execution_count": 47,
   "metadata": {},
   "outputs": [
    {
     "data": {
      "text/plain": [
       "ID\n",
       "II    707.35\n",
       "IV    419.10\n",
       "Name: impact force (mN), dtype: float64"
      ]
     },
     "execution_count": 47,
     "metadata": {},
     "output_type": "execute_result"
    }
   ],
   "source": [
    "frog_df.groupby('ID').mean()['impact force (mN)']"
   ]
  },
  {
   "cell_type": "markdown",
   "metadata": {},
   "source": [
    "The average strike force of Frog `II` was 0.71 Newtons (N), and that of Frog `IV` was 0.42 N for a difference of 0.29 N. It is possible the frogs strike with the same force and this observed difference was by chance. We will compute the probability of getting at least a 0.29 N difference in mean strike force under the hypothesis that the distributions of strike forces for the two frogs are identical. We use a permutation test with a test statistic of the difference of means to test this hypothesis."
   ]
  },
  {
   "cell_type": "markdown",
   "metadata": {},
   "source": [
    "Lets call the two groups `force_a` and `force_b`, and assign the relevant data."
   ]
  },
  {
   "cell_type": "code",
   "execution_count": 48,
   "metadata": {},
   "outputs": [],
   "source": [
    "force_a = frog_df[frog_df['ID'] == 'II']['impact force (mN)'].values / 1000"
   ]
  },
  {
   "cell_type": "code",
   "execution_count": 49,
   "metadata": {},
   "outputs": [
    {
     "data": {
      "text/plain": [
       "array([1.612, 0.605, 0.327, 0.946, 0.541, 1.539, 0.529, 0.628, 1.453,\n",
       "       0.297, 0.703, 0.269, 0.751, 0.245, 1.182, 0.515, 0.435, 0.383,\n",
       "       0.457, 0.73 ])"
      ]
     },
     "execution_count": 49,
     "metadata": {},
     "output_type": "execute_result"
    }
   ],
   "source": [
    "force_a"
   ]
  },
  {
   "cell_type": "code",
   "execution_count": 50,
   "metadata": {},
   "outputs": [],
   "source": [
    "force_b = frog_df[frog_df['ID'] == 'IV']['impact force (mN)'].values / 1000"
   ]
  },
  {
   "cell_type": "code",
   "execution_count": 51,
   "metadata": {
    "scrolled": true
   },
   "outputs": [
    {
     "data": {
      "text/plain": [
       "array([0.172, 0.142, 0.037, 0.453, 0.355, 0.022, 0.502, 0.273, 0.72 ,\n",
       "       0.582, 0.198, 0.198, 0.597, 0.516, 0.815, 0.402, 0.605, 0.711,\n",
       "       0.614, 0.468])"
      ]
     },
     "execution_count": 51,
     "metadata": {},
     "output_type": "execute_result"
    }
   ],
   "source": [
    "force_b"
   ]
  },
  {
   "cell_type": "markdown",
   "metadata": {},
   "source": [
    "Finding the p-value."
   ]
  },
  {
   "cell_type": "code",
   "execution_count": 52,
   "metadata": {},
   "outputs": [
    {
     "name": "stdout",
     "output_type": "stream",
     "text": [
      "p-value = 0.0049\n"
     ]
    }
   ],
   "source": [
    "def diff_of_means(data_1, data_2):\n",
    "    \"\"\"Difference in means of two arrays.\"\"\"\n",
    "\n",
    "    # The difference of means of data_1, data_2: diff\n",
    "    diff = np.mean(data_1) - np.mean(data_2)\n",
    "\n",
    "    return diff\n",
    "\n",
    "# Compute difference of mean impact force from experiment: empirical_diff_means\n",
    "empirical_diff_means = diff_of_means(force_a, force_b)\n",
    "\n",
    "# Draw 10,000 permutation replicates: perm_replicates\n",
    "perm_replicates = draw_perm_reps(force_a, force_b,\n",
    "                                 diff_of_means, size=10000)\n",
    "\n",
    "# Compute p-value: p\n",
    "p = np.sum(perm_replicates >= empirical_diff_means) / len(perm_replicates)\n",
    "\n",
    "# Print the result\n",
    "print('p-value =', p)"
   ]
  },
  {
   "cell_type": "markdown",
   "metadata": {},
   "source": [
    "#### A one-sample bootstrap hypothesis test\n",
    "\n",
    "Another juvenile frog was studied, Frog C, and we want to see if Frog B and Frog C have similar impact forces. Lets assume, we do not have Frog C's impact forces available, but we know they have a mean of 0.55 N. Because we don't have the original data, we cannot do a permutation test, and we cannot assess the hypothesis that the forces from Frog B and Frog C come from the same distribution. We will therefore test another, less restrictive hypothesis: The mean strike force of Frog B is equal to that of Frog C."
   ]
  },
  {
   "cell_type": "markdown",
   "metadata": {},
   "source": [
    "To set up the bootstrap hypothesis test, we will take the mean as our test statistic. Remember, our goal is to calculate the probability of getting a mean impact force less than or equal to what was observed for Frog B if the hypothesis that the true mean of Frog B's impact forces is equal to that of Frog C is true. We first translate all of the data of Frog B such that the mean is 0.55 N. This involves adding the mean force of Frog C and subtracting the mean force of Frog B from each measurement of Frog B. This leaves other properties of Frog B's distribution, such as the variance, unchanged."
   ]
  },
  {
   "cell_type": "code",
   "execution_count": 53,
   "metadata": {},
   "outputs": [],
   "source": [
    "# Make an array of translated impact forces: translated_force_b\n",
    "translated_force_b = force_b - np.mean(force_b) + 0.55"
   ]
  },
  {
   "cell_type": "code",
   "execution_count": 54,
   "metadata": {},
   "outputs": [
    {
     "data": {
      "text/plain": [
       "array([0.3029, 0.2729, 0.1679, 0.5839, 0.4859, 0.1529, 0.6329, 0.4039,\n",
       "       0.8509, 0.7129, 0.3289, 0.3289, 0.7279, 0.6469, 0.9459, 0.5329,\n",
       "       0.7359, 0.8419, 0.7449, 0.5989])"
      ]
     },
     "execution_count": 54,
     "metadata": {},
     "output_type": "execute_result"
    }
   ],
   "source": [
    "translated_force_b"
   ]
  },
  {
   "cell_type": "code",
   "execution_count": 55,
   "metadata": {},
   "outputs": [],
   "source": [
    "# Take bootstrap replicates of Frog B's translated impact forces: bs_replicates\n",
    "bs_replicates = draw_bs_reps(translated_force_b, np.mean, 10000)"
   ]
  },
  {
   "cell_type": "code",
   "execution_count": 56,
   "metadata": {},
   "outputs": [],
   "source": [
    "# Compute fraction of replicates that are less than the observed Frog B force: p\n",
    "p = np.sum(bs_replicates <= np.mean(force_b)) / 10000"
   ]
  },
  {
   "cell_type": "code",
   "execution_count": 57,
   "metadata": {},
   "outputs": [
    {
     "name": "stdout",
     "output_type": "stream",
     "text": [
      "p = 0.0075\n"
     ]
    }
   ],
   "source": [
    "print(f\"p = {p}\")"
   ]
  },
  {
   "cell_type": "markdown",
   "metadata": {},
   "source": [
    "#### A two-sample bootstrap hypothesis test for difference of means\n",
    "\n",
    "We now want to test the hypothesis that Frog A and Frog B have the same mean impact force, but not necessarily the same distribution, which is also impossible with a permutation test.\n",
    "\n",
    "To do the two-sample bootstrap test, we shift both arrays to have the same mean, since we are simulating the hypothesis that their means are, in fact, equal. We then draw bootstrap samples out of the shifted arrays and compute the difference in means. This constitutes a bootstrap replicate, and we generate many of them. The p-value is the fraction of replicates with a difference in means greater than or equal to what was observed."
   ]
  },
  {
   "cell_type": "code",
   "execution_count": 58,
   "metadata": {},
   "outputs": [],
   "source": [
    "# Compute mean of all forces: mean_force\n",
    "forces_concat = np.concatenate((force_a, force_b))"
   ]
  },
  {
   "cell_type": "code",
   "execution_count": 59,
   "metadata": {},
   "outputs": [
    {
     "data": {
      "text/plain": [
       "array([1.612, 0.605, 0.327, 0.946, 0.541, 1.539, 0.529, 0.628, 1.453,\n",
       "       0.297, 0.703, 0.269, 0.751, 0.245, 1.182, 0.515, 0.435, 0.383,\n",
       "       0.457, 0.73 , 0.172, 0.142, 0.037, 0.453, 0.355, 0.022, 0.502,\n",
       "       0.273, 0.72 , 0.582, 0.198, 0.198, 0.597, 0.516, 0.815, 0.402,\n",
       "       0.605, 0.711, 0.614, 0.468])"
      ]
     },
     "execution_count": 59,
     "metadata": {},
     "output_type": "execute_result"
    }
   ],
   "source": [
    "forces_concat"
   ]
  },
  {
   "cell_type": "code",
   "execution_count": 60,
   "metadata": {},
   "outputs": [],
   "source": [
    "# Compute mean of all forces: mean_force\n",
    "mean_force = np.mean(forces_concat)\n"
   ]
  },
  {
   "cell_type": "code",
   "execution_count": 61,
   "metadata": {},
   "outputs": [
    {
     "data": {
      "text/plain": [
       "0.563225"
      ]
     },
     "execution_count": 61,
     "metadata": {},
     "output_type": "execute_result"
    }
   ],
   "source": [
    "mean_force"
   ]
  },
  {
   "cell_type": "code",
   "execution_count": 62,
   "metadata": {},
   "outputs": [],
   "source": [
    "# Generate shifted arrays\n",
    "force_a_shifted = force_a - np.mean(force_a) + mean_force\n",
    "force_b_shifted = force_b - np.mean(force_b) + mean_force"
   ]
  },
  {
   "cell_type": "code",
   "execution_count": 63,
   "metadata": {},
   "outputs": [],
   "source": [
    "# Compute 10,000 bootstrap replicates from shifted arrays\n",
    "bs_replicates_a = draw_bs_reps(force_a_shifted, np.mean, size=10000)\n",
    "bs_replicates_b = draw_bs_reps(force_b_shifted, np.mean, size=10000)"
   ]
  },
  {
   "cell_type": "code",
   "execution_count": 64,
   "metadata": {},
   "outputs": [
    {
     "name": "stdout",
     "output_type": "stream",
     "text": [
      "p-value = 0.0041\n"
     ]
    }
   ],
   "source": [
    "# Get replicates of difference of means: bs_replicates\n",
    "bs_replicates = bs_replicates_a - bs_replicates_b\n",
    "\n",
    "# Compute and print p-value: p\n",
    "p = np.sum(bs_replicates >= empirical_diff_means) / len(bs_replicates)\n",
    "print('p-value =', p)"
   ]
  },
  {
   "cell_type": "markdown",
   "metadata": {},
   "source": [
    "#### Hypothesis test examples"
   ]
  },
  {
   "cell_type": "markdown",
   "metadata": {},
   "source": [
    "#### The vote for the Civil Rights Act in 1964\n",
    "\n",
    "The Civil Rights Act of 1964 was one of the most important pieces of legislation ever passed in the USA. Excluding \"present\" and \"abstain\" votes, 153 House Democrats and 136 Republicans voted yea. However, 91 Democrats and 35 Republicans voted nay. Did party affiliation make a difference in the vote?"
   ]
  },
  {
   "cell_type": "markdown",
   "metadata": {},
   "source": [
    "To answer this question, we will evaluate the hypothesis that the party of a House member has no bearing on his or her vote. We will use the fraction of Democrats voting in favor as our test statistic and evaluate the probability of observing a fraction of Democrats voting in favor at least as small as the observed fraction of 153/244. (That's right, at least as small as. In 1964, it was the Democrats who were less progressive on civil rights issues.) To do this, permute the party labels of the House voters and then arbitrarily divide them into \"Democrats\" and \"Republicans\" and compute the fraction of Democrats voting yea."
   ]
  },
  {
   "cell_type": "code",
   "execution_count": 65,
   "metadata": {},
   "outputs": [],
   "source": [
    "dems = np.array([True] * 153 + [False] * 91)\n",
    "reps = np.array([True] * 136 + [False] * 35)"
   ]
  },
  {
   "cell_type": "code",
   "execution_count": 66,
   "metadata": {},
   "outputs": [],
   "source": [
    "def frac_yea_dems(dems,rep):\n",
    "    \"\"\"Compute fraction of Democrat yea votes.\"\"\"\n",
    "    frac = np.sum(dems) / len(dems)\n",
    "    return frac"
   ]
  },
  {
   "cell_type": "code",
   "execution_count": 78,
   "metadata": {},
   "outputs": [],
   "source": [
    "perm_replicates = draw_perm_reps(dems, reps, frac_yea_dems, 10000)"
   ]
  },
  {
   "cell_type": "code",
   "execution_count": 82,
   "metadata": {},
   "outputs": [
    {
     "name": "stdout",
     "output_type": "stream",
     "text": [
      "p-value = 0.0003\n"
     ]
    }
   ],
   "source": [
    "p = np.sum(perm_replicates <= 153/244) / len(perm_replicates)\n",
    "print('p-value =', p)"
   ]
  },
  {
   "cell_type": "code",
   "execution_count": 83,
   "metadata": {},
   "outputs": [
    {
     "name": "stdout",
     "output_type": "stream",
     "text": [
      "The p value is 0.0003\n"
     ]
    }
   ],
   "source": [
    "print(f\"The p value is {round(p, 10)}\")"
   ]
  }
 ],
 "metadata": {
  "kernelspec": {
   "display_name": "Python 3",
   "language": "python",
   "name": "python3"
  },
  "language_info": {
   "codemirror_mode": {
    "name": "ipython",
    "version": 3
   },
   "file_extension": ".py",
   "mimetype": "text/x-python",
   "name": "python",
   "nbconvert_exporter": "python",
   "pygments_lexer": "ipython3",
   "version": "3.7.4"
  }
 },
 "nbformat": 4,
 "nbformat_minor": 2
}
